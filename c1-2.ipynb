{
 "cells": [
  {
   "cell_type": "markdown",
   "id": "631820da-affc-4ccb-a8f8-edcb4fbda968",
   "metadata": {},
   "source": [
    "# Python的基本元素"
   ]
  },
  {
   "cell_type": "code",
   "execution_count": 1,
   "id": "60bfd605-4d9d-4f57-8f72-7f30a32634e6",
   "metadata": {},
   "outputs": [
    {
     "name": "stdout",
     "output_type": "stream",
     "text": [
      "Hello Python\n",
      "Hello Python\n"
     ]
    }
   ],
   "source": [
    "print('Hello Python')\n",
    "print('Hello', 'Python')"
   ]
  },
  {
   "cell_type": "markdown",
   "id": "0b0bdb76-5e57-4be8-9700-be1a07edfa22",
   "metadata": {},
   "source": [
    "可以看到,上下两行虽然输入的内容不一样,实际上输出的结果是一样的.说明print函数能够接收任意多个参数,如果由逗号隔开,在输出结果上以空格隔开."
   ]
  },
  {
   "cell_type": "markdown",
   "id": "49e3f5dd-5fd9-4a67-8de9-843d093ddf72",
   "metadata": {},
   "source": [
    "## 对象,表达式和数值类型"
   ]
  },
  {
   "cell_type": "markdown",
   "id": "38e6a566-210d-42f4-a768-894deace8383",
   "metadata": {},
   "source": [
    "在Python中,我们有四类标量(无法拆分的对象)他们分别是:  \n",
    "`int`:整数  \n",
    "`float`:浮点数(小数)  \n",
    "`bool`:布尔值,`True`和`False`(真或假,注意大小写)  \n",
    "`None`:特殊值,空值  "
   ]
  },
  {
   "cell_type": "code",
   "execution_count": 2,
   "id": "48573d5c-992d-4133-a7fd-da6392d356e0",
   "metadata": {},
   "outputs": [
    {
     "name": "stdout",
     "output_type": "stream",
     "text": [
      "3 + 2 = 5\n",
      "5 + 7 = 35\n",
      "4 * 2 = 8\n",
      "6 / 3 = 2.0\n"
     ]
    }
   ],
   "source": [
    "# int\n",
    "print('3 + 2 =', 3 + 2)\n",
    "print('5 + 7 =', 5 * 7)\n",
    "print('4 * 2 =', 4 * 2)\n",
    "print('6 / 3 =', 6 / 3)"
   ]
  },
  {
   "cell_type": "markdown",
   "source": [
    "注意,虽然 `6` 和 `3` 都是 `int` 类型的元素,但是得到的结果 `2.0` 却是 `float` 类型的元素.对于对象的类型,我们可以用 `type()` 函数进行查看."
   ],
   "metadata": {
    "collapsed": false
   }
  },
  {
   "cell_type": "code",
   "execution_count": 3,
   "id": "16294df0-e4dc-4461-9b37-e0c152290acb",
   "metadata": {},
   "outputs": [
    {
     "name": "stdout",
     "output_type": "stream",
     "text": [
      "<class 'str'>\n",
      "<class 'int'>\n",
      "<class 'float'>\n",
      "<class 'bool'>\n",
      "<class 'NoneType'>\n"
     ]
    }
   ],
   "source": [
    "print(type('3'))\n",
    "print(type(3))\n",
    "print(type(3.0))\n",
    "print(type(True))\n",
    "print(type(None))"
   ]
  },
  {
   "cell_type": "markdown",
   "source": [
    "可以看到,第一行和第二行的 `3` 加了引号之后,类型从 `int` 变成了 `string` 也就是字符串类型,这里仅做一个介绍.接下来我们看看常见的数学运算."
   ],
   "metadata": {
    "collapsed": false
   }
  },
  {
   "cell_type": "code",
   "execution_count": 4,
   "outputs": [
    {
     "name": "stdout",
     "output_type": "stream",
     "text": [
      "i + j =  13.5 <class 'float'>\n",
      "i - j =  6.5 <class 'float'>\n",
      "i * j =  35.0 <class 'float'>\n",
      "i / j =  2.857142857142857 <class 'float'>\n",
      "i // j =  2.0 <class 'float'>\n",
      "i % j =  3.0 <class 'float'>\n",
      "i ** j =  3162.2776601683795 <class 'float'>\n"
     ]
    }
   ],
   "source": [
    "i = 10\n",
    "j = 3.5\n",
    "print('i + j = ', i + j, type(i + j))  # 加\n",
    "print('i - j = ', i - j, type(i - j))  # 减\n",
    "print('i * j = ', i * j, type(i * j))  # 乘\n",
    "print('i / j = ', i / j, type(i / j))  # 除\n",
    "print('i // j = ', i // j, type(i // j))  # 取整除(10除以3.5商2余3)\n",
    "print('i % j = ', i % j, type(i % j))  # 取余数\n",
    "print('i ** j = ', i ** j, type(i ** j))  # 乘方\n"
   ],
   "metadata": {
    "collapsed": false
   }
  },
  {
   "cell_type": "markdown",
   "source": [
    "可以看到,只要有 `float` 类型的元素参与计算,结果一定是 `float` 元素.\n",
    "只有加,减,乘的两个元素都是 `int` 类型时,结果才为 `int` 类型.\n",
    "对于算数运算来说,一般分为四个优先级.作为了解即可,不需要死记硬背.\n",
    "优先级: `()` > `**` > `*, /, //, %` > `+, -`\n",
    "接下来还有一些比较运算符:\n",
    " `==` 等于, `!=` 不等于, `>` 大于, `>=` 大于等于, `<` 小于, `<=` 小于等于.\n",
    "由比较运算符得到的结果一定是 `bool` 类型."
   ],
   "metadata": {
    "collapsed": false
   }
  },
  {
   "cell_type": "code",
   "execution_count": 5,
   "outputs": [
    {
     "name": "stdout",
     "output_type": "stream",
     "text": [
      "False <class 'bool'>\n",
      "False\n",
      "True\n",
      "True\n"
     ]
    }
   ],
   "source": [
    "print(4 == 5, type(4 == 5))\n",
    "print(3 >= 4)\n",
    "print(4 <= 4)\n",
    "print(2 != 4)"
   ],
   "metadata": {
    "collapsed": false
   }
  },
  {
   "cell_type": "markdown",
   "source": [
    "对于 `bool` 值,我们有三种运算符, `and` 与, `or` 或,`not` 非.\n",
    "其中 `and` 一假则假, `or` 一真则真, `not` 结果相反.\n",
    "注意下面 `b and c` 虽然bc都是 `False` 但是结果仍然是 `False` ."
   ],
   "metadata": {
    "collapsed": false
   }
  },
  {
   "cell_type": "code",
   "execution_count": 6,
   "outputs": [
    {
     "name": "stdout",
     "output_type": "stream",
     "text": [
      "False\n",
      "False\n",
      "False\n"
     ]
    }
   ],
   "source": [
    "a = True\n",
    "b = False\n",
    "c = False\n",
    "print(a and b)\n",
    "print(b and c)\n",
    "print(not a)"
   ],
   "metadata": {
    "collapsed": false
   }
  },
  {
   "cell_type": "markdown",
   "source": [
    "## 变量与赋值"
   ],
   "metadata": {
    "collapsed": false
   }
  },
  {
   "cell_type": "markdown",
   "source": [
    "对于python来说.我们通过 `=` 将变量和对象相互绑定.例如下面的例子,我们将变量 `a` 与对象 `5` 绑定了起来.所以 `print` 函数会输出 `5` .并且不难发现,虽然后面我们将 `a` 重新绑定到了 `6` ,但是由于 `square` 已经在此之间进行了计算.所以仍然不会改变结果.变量名字只是一个代号,你可以叫姬无命,我也可以叫姬无命,他们都可以.但是代码本身是写给人看的,因此,取一个有意义的变量名称能够增加程序的可读性."
   ],
   "metadata": {
    "collapsed": false
   }
  },
  {
   "cell_type": "code",
   "execution_count": 7,
   "outputs": [
    {
     "name": "stdout",
     "output_type": "stream",
     "text": [
      "5\n",
      "25\n",
      "25\n"
     ]
    }
   ],
   "source": [
    "a = 5\n",
    "print(a)\n",
    "square = a ** 2\n",
    "print(square)\n",
    "a = 6\n",
    "print(square)"
   ],
   "metadata": {
    "collapsed": false
   }
  },
  {
   "cell_type": "markdown",
   "source": [
    "Python是一门大小写敏感的语言,也就是说, `abc` 和 `Abc` 是两个对象.此外,变量不能以数字开头,并且有一些关键字不能作为变量名称.\n",
    "Python中的保留字包括and、as、assert、break、class、\n",
    "continue、def、del、elif、else、except、False、finally、for、from、global、if、\n",
    "import、in、is、lambda、nonlocal、None、not、or、pass、raise、return、True、try、\n",
    "while、with和 yield.这些变量只需要了解即可.你的IDE会提醒你"
   ],
   "metadata": {
    "collapsed": false
   }
  },
  {
   "cell_type": "code",
   "execution_count": 8,
   "outputs": [
    {
     "name": "stdout",
     "output_type": "stream",
     "text": [
      "False\n"
     ]
    }
   ],
   "source": [
    "print('abc' == 'Abc')"
   ],
   "metadata": {
    "collapsed": false
   }
  },
  {
   "cell_type": "code",
   "execution_count": 9,
   "outputs": [
    {
     "name": "stdout",
     "output_type": "stream",
     "text": [
      "-2.14\n"
     ]
    }
   ],
   "source": [
    "side = 1\n",
    "# 对于python来说.适当的注释能够提醒自己这段代码是什么意思\n",
    "radius = 1\n",
    "# 如果变量名称只是无意义的a,b,c, 那么在几天,几周以后,你还记得他的含义吗?\n",
    "areaC = 3.14 * radius ** 2\n",
    "# 我们在python中用 # 开头当做注释,编辑器会自动忽略 # 开头的代码.\n",
    "areaS = side * side\n",
    "# 因此临时不需要的代码我们也可以在行首加一个 # 临时注释掉\n",
    "area_diff = areaS - areaC\n",
    "print(area_diff)"
   ],
   "metadata": {
    "collapsed": false
   }
  },
  {
   "cell_type": "markdown",
   "source": [],
   "metadata": {
    "collapsed": false
   }
  },
  {
   "cell_type": "markdown",
   "source": [
    "## 程序分支"
   ],
   "metadata": {
    "collapsed": false
   }
  },
  {
   "cell_type": "markdown",
   "source": [
    "从开始到现在,我们的代码都是遵循着自上而下的运行顺序.这种代码一般来说用途不大.因此我们来一点有趣的东西.比如,条件语句.先来看一个例子"
   ],
   "metadata": {
    "collapsed": false
   }
  },
  {
   "cell_type": "code",
   "execution_count": 10,
   "outputs": [
    {
     "name": "stdout",
     "output_type": "stream",
     "text": [
      "a > b\n",
      "c != d\n"
     ]
    }
   ],
   "source": [
    "a = 5\n",
    "b = 3\n",
    "if a > b:\n",
    "    print('a > b')\n",
    "\n",
    "c = 'abc'\n",
    "d = 'Abc'\n",
    "if c != d:\n",
    "    print('c != d')\n",
    "else:\n",
    "    print('c == d')"
   ],
   "metadata": {
    "collapsed": false
   }
  },
  {
   "cell_type": "markdown",
   "source": [
    "通过上面两个小例子可以看出, `if` 条件语句的基本结构,其中 `else` 部分可以省略.\n",
    "```\n",
    "if 条件语句:\n",
    "    如果条件为真,执行这里\n",
    "else:\n",
    "    如果条件为假,则执行这里\n",
    "```\n",
    "可是并不是万事万物都具有二元性,假如有多重可能怎么办呢?我们来看下面的例子"
   ],
   "metadata": {
    "collapsed": false
   }
  },
  {
   "cell_type": "code",
   "execution_count": 11,
   "outputs": [
    {
     "name": "stdout",
     "output_type": "stream",
     "text": [
      "成绩优良\n"
     ]
    }
   ],
   "source": [
    "score = 85\n",
    "if score >= 90:\n",
    "    print('成绩优异')\n",
    "elif 80 <= score < 90:\n",
    "    print('成绩优良')\n",
    "elif 60 <= score < 80:\n",
    "    print('成绩一般')\n",
    "else:\n",
    "    print('不合格')"
   ],
   "metadata": {
    "collapsed": false
   }
  },
  {
   "cell_type": "markdown",
   "source": [
    "对于多重选择,我们可以无限 `if` `elif`套娃,并且 `else` 语句均可以省略.我们的 `if` 语句判断是自上而下,只会执行其中一条."
   ],
   "metadata": {
    "collapsed": false
   }
  },
  {
   "cell_type": "markdown",
   "source": [
    "## 字符串的输入输出"
   ],
   "metadata": {
    "collapsed": false
   }
  },
  {
   "cell_type": "markdown",
   "source": [
    "前面我们出现了一次 `string` 类型的对象,我们称之为字符串,并且以 `str` 简写.\n",
    "在python中,只要见到单引号或者双引号括起来的内容一般都是字符串.我们先来看看字符串的特殊形态."
   ],
   "metadata": {
    "collapsed": false
   }
  },
  {
   "cell_type": "code",
   "execution_count": 12,
   "outputs": [
    {
     "name": "stdout",
     "output_type": "stream",
     "text": [
      "a * 3 = 9\n",
      "b * 3 = 333 <class 'str'>\n",
      "a + 5 = 8\n",
      "b + \"5\" = 35 <class 'str'>\n"
     ]
    }
   ],
   "source": [
    "a = 3\n",
    "b = '3'\n",
    "print('a * 3 =', a * 3)\n",
    "print('b * 3 =', b * 3, type(b * 3))\n",
    "print('a + 5 =', a + 5)\n",
    "print('b + \"5\" =', b + '5', type(b + '5'))"
   ],
   "metadata": {
    "collapsed": false
   }
  },
  {
   "cell_type": "markdown",
   "source": [
    "可以发现, `b * 3` 我们得到的结果是 `b` 重复了3次.并且 `b` + `'5'` 得到的结果和前面一样都是字符串.这就是字符串的特殊用法,对于字符串来说.加号更像是拼接,而乘号则是重复."
   ],
   "metadata": {
    "collapsed": false
   }
  },
  {
   "cell_type": "markdown",
   "source": [
    "前面我们介绍了4种标量(`int`,`float`,`bool`,`None`).字符串与他们不同,我们吧字符串称作序列,因为我们可以把字符串看成是一个个的字母对象有序的排列在一起.对于序列类型的对象,我们介绍三种常用的函数:"
   ],
   "metadata": {
    "collapsed": false
   }
  },
  {
   "cell_type": "code",
   "execution_count": 13,
   "outputs": [
    {
     "name": "stdout",
     "output_type": "stream",
     "text": [
      "12\n",
      "h\n",
      "True\n",
      "lo \n",
      "el y\n",
      "True\n"
     ]
    }
   ],
   "source": [
    "a = 'hello python'\n",
    "print(len(a))\n",
    "# len()函数,会返回其中对象元素的个数.对于a来说长度为12,代表由12个元素构成.\n",
    "print(a[0])\n",
    "print(a[-8] == a[4])\n",
    "\"\"\"\n",
    "第二类在序列对象后面加一个方括号和整数,代表我们提取的是a的第[0]个元素.\n",
    "在python中,我们把这种[0]称作是索引(index).对于索引来说我们一般从0开始依次增加.\n",
    "以a为例,下面为这个字符串的正反两种索引\n",
    "   ' h   e   l   l  o     p  y  t  h  o  n'\n",
    "正:  0   1   2   3  4  5  6  7  8  9  10 11 正向索引从0开始从左往右\n",
    "反: -12 -11 -10 -9 -8 -7 -6 -5 -4 -3  -2 -1 反向索引从-1开始从右往左\n",
    "从上面的a[-8]==a[4]可以看到,其实是同一个元素.\n",
    "\"\"\"\n",
    "print(a[3:6])\n",
    "print(a[1:9:2])\n",
    "\"\"\"\n",
    "序列对象有个最重要的功能叫做切片.就是从序列中取出一部分元素.序列的一般形式如下:\n",
    "序列对象[起始索引:终止索引:索引间隔]\n",
    "例如 a[1:9:2] = a[1] + a[3] + a[5] + a[7]\n",
    "在python中,绝大多数我们在切片中的选取都遵循着一个原则叫做\"左闭右开\",意思就是说\n",
    "能选取到这个1,但是选取不到9.并且由于索引间隔为2,因此我们只能选取1,3,5,7.\n",
    "索引间隔可以为正也可以为负,不过为负的时候要注意结果是不是你想要的\n",
    "试试看a[10:0:-2],如果我们把索引换成a[-12:-3:step]此时step应该为正还是负呢?\n",
    "对于切片,我们还有特殊的规定.\n",
    "如果省略了起始索引,那么默认起始索引就是0,\n",
    "如果省略了终止索引,那么默认终止索引就是len(a),也就是a的长度.\n",
    "如果省略了索引间隔,那么默认索引间隔就是1.并且索引间隔为1的时候我们一般忽略不写.\n",
    "因此,下面这些都是正确的\n",
    "a == a[:]\n",
    "a == a[::]\n",
    "a[:5] == a[1:5:1]\n",
    "a[5:] == a[5:len(a)]\n",
    "在python中两个 \"\"\" \"\"\"之间的内容都会作为注释.\n",
    "\"\"\"\n",
    "print(a[5:] == a[5:len(a)])"
   ],
   "metadata": {
    "collapsed": false
   }
  },
  {
   "cell_type": "markdown",
   "source": [
    "## 输入"
   ],
   "metadata": {
    "collapsed": false
   }
  },
  {
   "cell_type": "markdown",
   "source": [
    "如果我们只能让系统输出而不能自行输入,那岂不是很无趣?\n",
    "不如引入一个输入函数 `input` .\n",
    "它可以接收一个字符串作为参数,需要用户输入内容后以回车结尾."
   ],
   "metadata": {
    "collapsed": false
   }
  },
  {
   "cell_type": "code",
   "execution_count": 14,
   "outputs": [
    {
     "name": "stdout",
     "output_type": "stream",
     "text": [
      "Hello 皮卡丘\n"
     ]
    }
   ],
   "source": [
    "name = input('请输入你的名字')  # 皮卡丘\n",
    "greeting = 'Hello' + ' ' + name\n",
    "print(greeting)"
   ],
   "metadata": {
    "collapsed": false
   }
  },
  {
   "cell_type": "markdown",
   "source": [
    "可以看见,系统将输入的内容 `皮卡丘` 存储到了 `name` 中,并且传递给了 `greeting` .\n",
    "注意看,为什么下面的代码会输出这种结果"
   ],
   "metadata": {
    "collapsed": false
   }
  },
  {
   "cell_type": "code",
   "execution_count": 15,
   "outputs": [
    {
     "name": "stdout",
     "output_type": "stream",
     "text": [
      "55\n",
      "<class 'str'>\n"
     ]
    }
   ],
   "source": [
    "num = input('请输入一个数')  # 5\n",
    "double_num = num * 2\n",
    "print(double_num)\n",
    "print(type(num))"
   ],
   "metadata": {
    "collapsed": false
   }
  },
  {
   "cell_type": "markdown",
   "source": [
    "我们注意到 `num` 是一个字符串,因此 `double_num` 不等于 10 而成了 `55` .\n",
    "不过我们可以对其转换类型.只要字符串中的值是某种类型的有效字面量，就可以对字符串进行类型转换。注意, `float` 转换为 `int` 可能和原来不一样(去尾法)\n",
    "特别注意,只有 `bool(0)` 是 `False` . 其余 `bool(非0) `都是 `True` .\n"
   ],
   "metadata": {
    "collapsed": false
   }
  },
  {
   "cell_type": "code",
   "execution_count": 16,
   "outputs": [
    {
     "name": "stdout",
     "output_type": "stream",
     "text": [
      "3.0\n",
      "5\n",
      "3\n",
      "True\n",
      "False\n"
     ]
    }
   ],
   "source": [
    "print(float(3))\n",
    "print(int(5.8))\n",
    "print(int('3'))\n",
    "print(bool(-3.5))\n",
    "print(bool(0))"
   ],
   "metadata": {
    "collapsed": false
   }
  },
  {
   "cell_type": "markdown",
   "source": [
    "这里穿插个小知识点.\n",
    "多年以来，多数编程语言都使用一种名为ASCII的标准，在计算机内部表示字符。这个标准包括128个字符，足够表示英语中经常出现的特殊字符。但要表示世界上所有语言中的字符和符号，那就不够用了。\n",
    "最近几年，人们逐渐转向Unicode。Unicode标准是一个字符编码系统，支持数字化处理和所有语言的书面文本显示。这个标准中的字符超过120 000个，覆盖了129种从古至今的语言和符号集合。通过各种内部字符编码，可以实现Unicode标准。你可以告诉Python使用何种编码方式，在程序的第一行或第二行该条注释即可：\n",
    "```\n",
    "# -*- coding: utf-8 -*-\n",
    "```\n",
    "可以指示Python使用UTF-8，这是万维网网页上最常使用的字符编码。如果在程序中找不到这样的注释，多数Python实现会默认使用UTF-8。\n"
   ],
   "metadata": {
    "collapsed": false
   }
  },
  {
   "cell_type": "markdown",
   "source": [
    "## 迭代"
   ],
   "metadata": {
    "collapsed": false
   }
  },
  {
   "cell_type": "markdown",
   "source": [
    "先让我们来看一个例子,然后再引入迭代的概念"
   ],
   "metadata": {
    "collapsed": false
   }
  },
  {
   "cell_type": "code",
   "execution_count": 20,
   "outputs": [
    {
     "name": "stdout",
     "output_type": "stream",
     "text": [
      "xxx\n"
     ]
    }
   ],
   "source": [
    "num_x = int(input('How many \"x\" you want to input? '))\n",
    "need_print = ''\n",
    "if num_x == 1:\n",
    "    need_print = 'x'\n",
    "elif num_x == 2:\n",
    "    need_print = 'xx'\n",
    "elif num_x == 3:\n",
    "    need_print = 'xxx'\n",
    "# ...\n",
    "print(need_print)  # 3"
   ],
   "metadata": {
    "collapsed": false
   }
  },
  {
   "cell_type": "markdown",
   "source": [
    "可以看到,这里如果只有三个x我们还能够手动输入,但是如果是10个,100个呢.我们该怎么办?遇到这种需要多次重复同一件事的情况,我们就采用迭代语句.(循环语句)\n",
    "一般的迭代机制如下:\n",
    "与条件语句类似,都是从一个条件语句开始.如果条件语句为真, 我们就执行一次循环内的语句, 然后继续判断条件语句的真假.无限循环,直到条件语句为假,结束循环.\n",
    "我们把上面的例子用迭代语句进行重写看看:"
   ],
   "metadata": {
    "collapsed": false
   }
  },
  {
   "cell_type": "code",
   "execution_count": 18,
   "outputs": [
    {
     "name": "stdout",
     "output_type": "stream",
     "text": [
      "xxxxxxxxxxxxxxxxxxxx\n"
     ]
    }
   ],
   "source": [
    "num_x = int(input('How many \"x\" you want to input? '))\n",
    "need_print = ''\n",
    "while num_x > 0:\n",
    "    \"\"\"\n",
    "    while 循环语句, 在while后面跟着一个条件语句,如果 num_x > 0, 我们就执行循环内部语句.在python中,我们对内部外部的定义看缩进.比如这里,下面两行相对于其他的语句来说前面空了四个空格,我们把每4个空格称为一个缩进,常用的IDE可以按一下键盘的 Tab 键就会缩进一次.并且缩进的语句隶属于外面一层的语句.\n",
    "    在执行完依次循环内部语句后.我们又回到 while 对num_x进行判断,依次往复.\n",
    "    直到 num_x 为 0 后结束循环.\n",
    "    \"\"\"\n",
    "    need_print = need_print + 'x'\n",
    "    num_x -= 1\n",
    "    # python中 num_x -= 1 等价于 num_x = num_x - 1\n",
    "print(need_print)  # 20"
   ],
   "metadata": {
    "collapsed": false
   }
  },
  {
   "cell_type": "markdown",
   "source": [
    "现在我们有了 `while` 循环.但是新的问题又出现了, 有时候我只需要在里面找到满足条件的1个元素就想停止循环了.可是我又不知道具体在哪里,这时候我该怎么办呢? 我们可以将条件语句嵌套进 `while` 循环并且用 `break` 语句结束循环."
   ],
   "metadata": {
    "collapsed": false
   }
  },
  {
   "cell_type": "code",
   "execution_count": 19,
   "outputs": [
    {
     "name": "stdout",
     "output_type": "stream",
     "text": [
      "30\n"
     ]
    }
   ],
   "source": [
    "# 找 5 和 6 的最小公倍数\n",
    "x = 1\n",
    "while True:\n",
    "    # while True 代表无限循环,注意让循环能够以某种方式结束,比如 break\n",
    "    if x % 5 == 0 and x % 6 == 0:\n",
    "        # 这里有一个and 代表 需要同时满足左右两个条件才符合要求\n",
    "        break  # break语句会结束距他最近的上一个循环.在这里只有一个 while 循环\n",
    "    x += 1\n",
    "print(x)"
   ],
   "metadata": {
    "collapsed": false
   }
  },
  {
   "cell_type": "markdown",
   "source": [
    "自己动手试试看,编写一个程序,要求用户输入10个整数,然后输出其中最小的偶数.假如用户没有输入偶数,则弹出一个消息说明."
   ],
   "metadata": {
    "collapsed": false
   }
  }
 ],
 "metadata": {
  "kernelspec": {
   "display_name": "Python 3 (ipykernel)",
   "language": "python",
   "name": "python3"
  },
  "language_info": {
   "codemirror_mode": {
    "name": "ipython",
    "version": 3
   },
   "file_extension": ".py",
   "mimetype": "text/x-python",
   "name": "python",
   "nbconvert_exporter": "python",
   "pygments_lexer": "ipython3",
   "version": "3.10.8"
  }
 },
 "nbformat": 4,
 "nbformat_minor": 5
}
