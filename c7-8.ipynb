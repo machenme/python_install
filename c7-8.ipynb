{
 "cells": [
  {
   "cell_type": "markdown",
   "metadata": {},
   "source": [
    "# 异常与中断"
   ]
  },
  {
   "cell_type": "markdown",
   "metadata": {},
   "source": [
    "在python中，我们往往运行代码会出现各种各样的异常错误，下面是一个简单的例子："
   ]
  },
  {
   "cell_type": "code",
   "execution_count": 1,
   "metadata": {},
   "outputs": [
    {
     "ename": "IndexError",
     "evalue": "list index out of range",
     "output_type": "error",
     "traceback": [
      "\u001b[0;31m---------------------------------------------------------------------------\u001b[0m",
      "\u001b[0;31mIndexError\u001b[0m                                Traceback (most recent call last)",
      "Cell \u001b[0;32mIn [1], line 2\u001b[0m\n\u001b[1;32m      1\u001b[0m test \u001b[39m=\u001b[39m [\u001b[39m1\u001b[39m, \u001b[39m2\u001b[39m, \u001b[39m3\u001b[39m]\n\u001b[0;32m----> 2\u001b[0m test[\u001b[39m3\u001b[39;49m]\n",
      "\u001b[0;31mIndexError\u001b[0m: list index out of range"
     ]
    }
   ],
   "source": [
    "test = [1, 2, 3]\n",
    "test[3]\n"
   ]
  },
  {
   "cell_type": "markdown",
   "metadata": {},
   "source": [
    "一般来说，错误信息可以从最后面的`IndexError`看到，比如这里的错误信息是：列表索引超出了范围。这常常让我们很头疼，因为发生异常的时候，程序就会终止运行。  \n",
    "作为一个优秀的程序员，我们应该学会处理这些异常。比如下面的例子："
   ]
  },
  {
   "cell_type": "code",
   "execution_count": 1,
   "metadata": {},
   "outputs": [
    {
     "ename": "ZeroDivisionError",
     "evalue": "division by zero",
     "output_type": "error",
     "traceback": [
      "\u001b[0;31m---------------------------------------------------------------------------\u001b[0m",
      "\u001b[0;31mZeroDivisionError\u001b[0m                         Traceback (most recent call last)",
      "Cell \u001b[0;32mIn [1], line 3\u001b[0m\n\u001b[1;32m      1\u001b[0m a \u001b[39m=\u001b[39m \u001b[39m5\u001b[39m\n\u001b[1;32m      2\u001b[0m b \u001b[39m=\u001b[39m \u001b[39m0\u001b[39m\n\u001b[0;32m----> 3\u001b[0m div_ans \u001b[39m=\u001b[39m a \u001b[39m/\u001b[39;49m b\n\u001b[1;32m      4\u001b[0m \u001b[39mprint\u001b[39m(\u001b[39mf\u001b[39m\u001b[39m'\u001b[39m\u001b[39mdiv ans is \u001b[39m\u001b[39m{\u001b[39;00mdiv_ans\u001b[39m}\u001b[39;00m\u001b[39m'\u001b[39m)\n",
      "\u001b[0;31mZeroDivisionError\u001b[0m: division by zero"
     ]
    }
   ],
   "source": [
    "a = 5\n",
    "b = 0\n",
    "div_ans = a / b\n",
    "print(f'div ans is {div_ans}')\n",
    "print('Today is Sunday')"
   ]
  },
  {
   "cell_type": "markdown",
   "metadata": {},
   "source": [
    "当b为0时，我们显然知道这是个异常，因为0不能作为除数，程序运行到这里的时候就会停下来，后面的print也无法显示了。为了不让程序停下来，我们需要引入`try except`语句。让我们来改写一下："
   ]
  },
  {
   "cell_type": "code",
   "execution_count": 3,
   "metadata": {},
   "outputs": [
    {
     "name": "stdout",
     "output_type": "stream",
     "text": [
      "divison by zero! Please change it.\n",
      "Today is Sunday\n"
     ]
    }
   ],
   "source": [
    "a = 5\n",
    "b = 0\n",
    "try:\n",
    "    div_ans = a / b\n",
    "    print(f'div ans is {div_ans}')\n",
    "except ZeroDivisionError:\n",
    "    print('divison by zero! Please change it.')\n",
    "print('Today is Sunday')"
   ]
  },
  {
   "cell_type": "markdown",
   "metadata": {},
   "source": [
    "同样是发生了错误，但是这次程序却完整的运行到了最后，显示了最后的print函数。`try except`函数从字面意思理解，就是尝试去做某件事情，如果不行，我们就执行`except`里面的内容，然后正常执行后面的语句。通过这种方法，就能够让程序继续执行下去。我们再来看一个例子："
   ]
  },
  {
   "cell_type": "code",
   "execution_count": 4,
   "metadata": {},
   "outputs": [
    {
     "ename": "ValueError",
     "evalue": "invalid literal for int() with base 10: 'abvc'",
     "output_type": "error",
     "traceback": [
      "\u001b[0;31m---------------------------------------------------------------------------\u001b[0m",
      "\u001b[0;31mValueError\u001b[0m                                Traceback (most recent call last)",
      "Cell \u001b[0;32mIn [4], line 1\u001b[0m\n\u001b[0;32m----> 1\u001b[0m val \u001b[39m=\u001b[39m \u001b[39mint\u001b[39;49m(\u001b[39minput\u001b[39;49m(\u001b[39m'\u001b[39;49m\u001b[39mPlease enter an inter: \u001b[39;49m\u001b[39m'\u001b[39;49m))\n\u001b[1;32m      2\u001b[0m \u001b[39mprint\u001b[39m(\u001b[39mf\u001b[39m\u001b[39m'\u001b[39m\u001b[39mval ** 2 = \u001b[39m\u001b[39m{\u001b[39;00mval\u001b[39m}\u001b[39;00m\u001b[39m'\u001b[39m)\n",
      "\u001b[0;31mValueError\u001b[0m: invalid literal for int() with base 10: 'abvc'"
     ]
    }
   ],
   "source": [
    "val = int(input('Please enter an inter: '))\n",
    "print(f'val ** 2 = {val}')"
   ]
  },
  {
   "cell_type": "markdown",
   "metadata": {},
   "source": [
    "当我们输入的数据是不能转化为数字类型的字符串时，程序就会产生一个`ValueError`的异常。让我们用`try except`和`while`来改写一下，实现我们想要的功能。"
   ]
  },
  {
   "cell_type": "code",
   "execution_count": 9,
   "metadata": {},
   "outputs": [
    {
     "name": "stdout",
     "output_type": "stream",
     "text": [
      "abc is not an integer, please input again.\n",
      "sasdfsa is not an integer, please input again.\n",
      "val ** 2 = 50\n"
     ]
    }
   ],
   "source": [
    "while True:\n",
    "    val = input('Please enter an integer: ')\n",
    "    try:\n",
    "        val = int(val)\n",
    "        print(f'val ** 2 = {val ** 2}')\n",
    "        break\n",
    "    except ValueError:\n",
    "        print(f'{val} is not an integer, please input again.')"
   ]
  },
  {
   "cell_type": "markdown",
   "metadata": {},
   "source": [
    "当用户输入数据后，我们尝试去判断数据类型，如果数据类型正确则返回val的平方，否则提示用户重新输入数据。这样一来，我们就不用每次都重新运行程序了。虽然这样可以规避用户的输入是否是整数，但是这样写比较麻烦。不如把他封装成一个函数吧："
   ]
  },
  {
   "cell_type": "code",
   "execution_count": 12,
   "metadata": {},
   "outputs": [
    {
     "name": "stdout",
     "output_type": "stream",
     "text": [
      "abc is not an integer!\n"
     ]
    },
    {
     "data": {
      "text/plain": [
       "12"
      ]
     },
     "execution_count": 12,
     "metadata": {},
     "output_type": "execute_result"
    }
   ],
   "source": [
    "def check_value(x):\n",
    "    try:\n",
    "        x = int(x)\n",
    "        return(x)\n",
    "    except ValueError:\n",
    "        print(f'{x} is not an integer!')\n",
    "check_value('abc')"
   ]
  },
  {
   "cell_type": "markdown",
   "metadata": {},
   "source": [
    "虽然这样能够规避`x`为字符串的情况，但是如果x是一个浮点数，那么其实结果和我们需要的还是有出入。并且，如果我们得到的错误类型如果不是`ValueError`的时候，程序依然会停止运行。我们既可以选择把其他错误类型也卸载except中，也可以选择让所有的错误类型都抛出同样的结果。"
   ]
  },
  {
   "cell_type": "code",
   "execution_count": 17,
   "metadata": {},
   "outputs": [
    {
     "name": "stdout",
     "output_type": "stream",
     "text": [
      "a is 3, b is 0\n",
      "b can not be 0!\n",
      "\n",
      "a is abc, b is 0\n",
      "abc or 0 is not a number\n",
      "\n",
      "a is asfd, b is fdsa\n",
      "asfd or fdsa is not a number\n",
      "\n"
     ]
    }
   ],
   "source": [
    "def div_machine(a,b):\n",
    "    print(f'a is {a}, b is {b}')\n",
    "    try:\n",
    "        a = float(a)\n",
    "        b = float(b)\n",
    "        div_ans = a / b\n",
    "        print(f'{a} / {b} = {a/b}')\n",
    "    except ValueError:\n",
    "        print(f'{a} or {b} is not a number')\n",
    "    except ZeroDivisionError:\n",
    "        print(f'b can not be 0!')\n",
    "    except:\n",
    "        print(f'it is an error!')\n",
    "    print()\n",
    "div_machine(3,0)\n",
    "div_machine('abc',0)\n",
    "div_machine('asfd','fdsa')"
   ]
  }
 ],
 "metadata": {
  "kernelspec": {
   "display_name": "Python 3.10.8 ('py318')",
   "language": "python",
   "name": "python3"
  },
  "language_info": {
   "codemirror_mode": {
    "name": "ipython",
    "version": 3
   },
   "file_extension": ".py",
   "mimetype": "text/x-python",
   "name": "python",
   "nbconvert_exporter": "python",
   "pygments_lexer": "ipython3",
   "version": "3.10.8 (main, Nov 24 2022, 14:13:03) [GCC 11.2.0]"
  },
  "orig_nbformat": 4,
  "vscode": {
   "interpreter": {
    "hash": "c579df65042e25455271a640fa780f4b1a7fb58941a32599c2d1c6c2c645bcce"
   }
  }
 },
 "nbformat": 4,
 "nbformat_minor": 2
}
