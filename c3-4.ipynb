{
 "cells": [
  {
   "cell_type": "markdown",
   "metadata": {},
   "source": [
    "# 穷举法"
   ]
  },
  {
   "cell_type": "markdown",
   "metadata": {},
   "source": [
    "前面的章节我们学习了python最基本的语法和对象. 现在花两分钟来回顾一下.\n",
    "首先我们介绍了 `print` 函数的用法, 然后引入了4种标量： `int`, `float`, `bool`和比较特殊的 `None` .\n",
    "接下来我们学习了 `if` 条件语句, 序列变量 `string` 和相关用法, 输入函数 `input` , 序列的切片, `len` 函数, 以及 `while` 循环语句.\n",
    "今天我们来看看, 靠着我们学到的内容能做哪些事情？先来看一个例子："
   ]
  },
  {
   "cell_type": "code",
   "execution_count": 2,
   "metadata": {
    "jupyter": {
     "outputs_hidden": false
    }
   },
   "outputs": [
    {
     "name": "stdout",
     "output_type": "stream",
     "text": [
      "找到了-729的整数立方根:-9\n"
     ]
    }
   ],
   "source": [
    "# 求完全立方数的立方根（立方根为整数）\n",
    "x = int(input('请输入一个整数'))  # -729 将输入转换为整数类型\n",
    "ans = 0\n",
    "while ans ** 3 < abs(x):  # while语句判断条件\n",
    "    ans = ans + 1\n",
    "if ans ** 3 != abs(x):\n",
    "    print(f'找不到{x}的整数立方根')\n",
    "    \"\"\"\n",
    "    f-string在形式上是以 f 或 F 修饰符引领的字符串（f'xxx' 或 F'xxx'），以大括号 {} 标明被替换的字段；f-string在本质上并不是字符串常量，而是一个在运行时运算求值的表达式.个人推荐使用f-string其余的输出语法.\n",
    "    \"\"\"\n",
    "else:\n",
    "    if x < 0:\n",
    "        ans = -ans  # 为什么要将ans取反?\n",
    "    print(f'找到了{x}的整数立方根:{ans}')"
   ]
  },
  {
   "cell_type": "markdown",
   "metadata": {},
   "source": [
    "这段代码看似很简单, 其实已经用到了算法最基础的方法:穷举法.\n",
    "我们让 `ans` 从0开始每次增加1, 然后用 `ans` 的三次方与需要的结果 `x` 进行判定.\n",
    "当 `ans` 的三次方不小于 `x` 的绝对值的时候, 只会出现两种情况: 要么 `ans` 的三次方恰好等于 `x`, 或者 `ans` 的三次方已经大于了 `x` , 接着因此我们进行下一步判断.\n",
    "如果 `ans` 的三次方 等于 `x` , 又会出现两种情况: 大于0还是小于0, 只需要看 `x` 的符号就能得到结果啦.\n",
    "虽然穷举法看起来很笨, 但是很多时候穷举法是非常有效的方法.比如, 输入-3274759125 试试, 应该能立即得到答案."
   ]
  },
  {
   "cell_type": "markdown",
   "metadata": {},
   "source": [
    "现在让我们来练练手. 编写一个程序，要求用户输入一个整数，然后输出两个整数root和pwr，满足0 < pwr < 6，并且root**pwr等于用户输入的整数。如果不存在这样一对整数，则输出一条消息进行说明。 例如, 输入 8 , 应该会输出 8, 1  2, 3"
   ]
  },
  {
   "cell_type": "markdown",
   "metadata": {},
   "source": [
    "# For循环"
   ]
  },
  {
   "cell_type": "markdown",
   "metadata": {},
   "source": [
    "很多时候, 我们使用 `while` 循环需要提前设置一些变量以及循环条件非常的麻烦. 因此 Python 提供了一种更加简便的迭代方式, 也就是 `for` 循环. 我们先来看看 `for` 循环的语法结构:\n",
    "```\n",
    "for 自变量 in 某个序列:\n",
    "    代码段...(代码段可以使任意的,可以没有自变量)\n",
    "```\n",
    "其中自变量我们默认用 `i` 来表示, 你也可以选择自己喜欢的自变量. 不过需要注意, 这个自变量应该和全局变量的名字不冲突. 我们来看一个很简单的 `for` 循环语句."
   ]
  },
  {
   "cell_type": "code",
   "execution_count": 1,
   "metadata": {
    "jupyter": {
     "outputs_hidden": false
    }
   },
   "outputs": [
    {
     "name": "stdout",
     "output_type": "stream",
     "text": [
      "现在开始报数: 0\n",
      "现在开始报数: 1\n",
      "现在开始报数: 2\n",
      "现在开始报数: 3\n"
     ]
    }
   ],
   "source": [
    "for i in range(4):\n",
    "    print(f'现在开始报数: {i}')"
   ]
  },
  {
   "cell_type": "markdown",
   "metadata": {},
   "source": [
    "在这里, 首先我们看到 `range(起始:终止:步长)` , 这是 python 内置的一个函数, 代表生成一个序列范围, 参数与切片完全一样. 可以接收三个参数, 起始, 终止, 步长. 其中起始默认为0, 步长默认为1, 均可以省略. 所以在这里 `range(4)` 创建了一个序列`[0, 1, 2, 3]` .\n",
    "接下来 `i` 先代表其中的第一项, 也就是 0 参与到循环的语句中. 在循环语句执行完毕之后, `i` 会代表第二项, 以此类推. 是不是很简单呢?\n",
    "既然 `while` 语法有 `break` 语句可以使用, 那么我们的 `for` 循环也有 `break` 并且二者完全一样的用法. 我们试试用 `for` 循环重新写一下前面的求完全立方数的例子."
   ]
  },
  {
   "cell_type": "markdown",
   "metadata": {},
   "source": [
    "也许你会觉得, 感觉 `for` 循环与 `while` 循环没多大区别. 我个人觉得也差不多, 不过 `for` 循环很多时候都比 `while` 方便. 比如遍历字符串的所有元素:"
   ]
  },
  {
   "cell_type": "code",
   "execution_count": 16,
   "metadata": {
    "jupyter": {
     "outputs_hidden": false
    }
   },
   "outputs": [
    {
     "name": "stdout",
     "output_type": "stream",
     "text": [
      "E\n",
      "Q\n",
      "A\n"
     ]
    }
   ],
   "source": [
    "# 找出给定字符串的所有大写字母\n",
    "give_lis = 'asdhfzhvpoEovncxoQA'\n",
    "for i in give_lis:\n",
    "    if i.isupper():\n",
    "        print(i)"
   ]
  },
  {
   "cell_type": "markdown",
   "metadata": {},
   "source": [
    "可以看到.短短几行代码就能实现这个功能. 在这里我们遇到了新的用法 `isupper()` 这也是字符串内置的函数. 用来判断给定字符串是否是大写字母.与其类似的还有 `islower()` 来判断是否是小写字母."
   ]
  },
  {
   "cell_type": "code",
   "execution_count": 38,
   "metadata": {
    "jupyter": {
     "outputs_hidden": false
    }
   },
   "outputs": [
    {
     "name": "stdout",
     "output_type": "stream",
     "text": [
      "找到了-729的整数立方根:-9\n"
     ]
    }
   ],
   "source": [
    "# 求完全立方数用for循环\n",
    "x = int(input('请输入一个整数'))  # -729\n",
    "# ans = 0\n",
    "# while ans**3 < abs(x):\n",
    "#     ans = ans + 1\n",
    "for ans in range(0, abs(x) + 1):\n",
    "    if ans ** 3 >= abs(x):\n",
    "        break\n",
    "if ans ** 3 != abs(x):\n",
    "    print(f'找不到{x}的整数立方根')\n",
    "else:\n",
    "    if x < 0:\n",
    "        ans = -ans\n",
    "    print(f'找到了{x}的整数立方根:{ans}')"
   ]
  },
  {
   "cell_type": "markdown",
   "metadata": {},
   "source": [
    "接下来来练练手. 假设s是包含多个小数的字符串, 由逗号隔开, 如s = '1.53, 27.4, 33.123'. 编写一个程序，输出s中所有数值的和"
   ]
  },
  {
   "cell_type": "markdown",
   "metadata": {},
   "source": [
    "# 近似解和二分查找"
   ]
  },
  {
   "cell_type": "markdown",
   "metadata": {},
   "source": [
    "如果有人让你编写一个程序, 用来求任意非负数的平方根, 应该怎么做? 事实上, 我们在初中学到了不是每一个整数都有完全平方根, 比如2的平方根就是一个无理数.\n",
    "对于这样的数我们引入了一个精度的概念. 只要我们的答案满足了这个精度, 那么就认为我们找到了正确的答案. 在数学上, 我们把他叫做 ε(epsilon).\n",
    "之前我们学会了穷举法, 让我们先用穷举法进行尝试."
   ]
  },
  {
   "cell_type": "code",
   "execution_count": 18,
   "metadata": {
    "jupyter": {
     "outputs_hidden": false
    }
   },
   "outputs": [
    {
     "name": "stdout",
     "output_type": "stream",
     "text": [
      "8.999499999992365 就是此精度下81的平方根\n",
      "一共寻找了89995次\n"
     ]
    }
   ],
   "source": [
    "# 求任意非负数的平方根\n",
    "x = 81\n",
    "epsilon = 0.01\n",
    "step = epsilon ** 2\n",
    "guess_count = 0\n",
    "ans = 0.0\n",
    "while abs(ans ** 2 - x) >= epsilon and ans <= x:\n",
    "    ans += step  # 这里 += 等价于 ans = ans + step\n",
    "    guess_count += 1\n",
    "if abs(ans ** 2 - x) >= epsilon:\n",
    "    print('在此精度下无法求得平方根')\n",
    "else:\n",
    "    print(f'{ans} 就是此精度下{x}的平方根')\n",
    "print(f'一共寻找了{guess_count}次')"
   ]
  },
  {
   "cell_type": "markdown",
   "metadata": {},
   "source": [
    "通过答案我们可以发现两点.第一: 我们的结果并不完全等于9, 虽然我们知道9是81的完全平方根. 但是因为我们设定了精度这个概念, 那么我们利用穷举法的时候, 当猜测到 8.99949时, 结果和 x 的差距已经小于了 epsilon, 因此结束了运算.\n",
    "第二: 穷举法一共运行了接近9万次才得到结果, 显然这个结果让我们很不满意."
   ]
  },
  {
   "cell_type": "markdown",
   "metadata": {},
   "source": [
    "接下来看这个例子:"
   ]
  },
  {
   "cell_type": "code",
   "execution_count": 19,
   "metadata": {
    "jupyter": {
     "outputs_hidden": false
    }
   },
   "outputs": [
    {
     "name": "stdout",
     "output_type": "stream",
     "text": [
      "找到了81的平方根8.999999463558197,一共猜测了23次\n"
     ]
    }
   ],
   "source": [
    "# 利用二分查找求平方根\n",
    "x = 81\n",
    "epsilon = 0.00001\n",
    "low = min(0, x)\n",
    "high = max(0, x)\n",
    "guess = (low + high) / 2\n",
    "guess_count = 0\n",
    "while abs(guess ** 2 - x) >= epsilon:\n",
    "    if guess ** 2 > x:\n",
    "        high = guess\n",
    "    else:\n",
    "        low = guess\n",
    "    guess = (low + high) / 2\n",
    "    guess_count += 1\n",
    "print(f'找到了{x}的平方根{guess}, 一共猜测了{guess_count}次')"
   ]
  },
  {
   "cell_type": "markdown",
   "metadata": {},
   "source": [
    "不难看出,即使这次我们的精度要求更高了, 但是猜测次数相较于89995次却大幅度减少, 只有23次. 那么我们是怎么做到的呢?\n",
    "还记得非常6+1吗? 里面有个环节是让我们猜测商品的价格, 每当我们报出一个价格, 李勇叔叔会告诉我们是高了还是低了. 那么我们下一次报价就会在这个基础上进行修改.\n",
    "而二分查找正是利用了这一点, 每次查找都会显著降低下一次需要查找的范围. 因为这种查询方法每次刚好将需要查找的范围一分为二, 因此得名二分查找."
   ]
  },
  {
   "cell_type": "markdown",
   "metadata": {},
   "source": [
    "现在让我们来练习一下. 应该如何修上面的代码，才能求出一个数的立方根？这个数既可以是正数，也可以是负数。(提示：修改low保证答案位于待查找区域.)"
   ]
  },
  {
   "cell_type": "markdown",
   "metadata": {},
   "source": [
    "事实上还有个更常用的近似值算法叫做 牛顿-拉弗森法, 或者叫牛拉法. 感兴趣可以看这里:\n",
    "  https://zhuanlan.zhihu.com/p/266566509\n",
    "这里直接给出代码看一下:"
   ]
  },
  {
   "cell_type": "code",
   "execution_count": 22,
   "metadata": {
    "jupyter": {
     "outputs_hidden": false
    }
   },
   "outputs": [
    {
     "name": "stdout",
     "output_type": "stream",
     "text": [
      "找到了81的平方根9.000009415515175,一共猜测了5次\n"
     ]
    }
   ],
   "source": [
    "#利用牛顿拉弗森法寻找平方根\n",
    "#寻找x，满足x**2-24在epsilon和0之间\n",
    "x = 81\n",
    "epsilon = 0.01\n",
    "guess = x / 2.0\n",
    "guess_count = 0\n",
    "while abs(guess * guess - x) >= epsilon:\n",
    "    guess = guess - (((guess ** 2) - x) / (2 * guess))\n",
    "    guess_count += 1\n",
    "print(f'找到了{x}的平方根{guess}, 一共猜测了{guess_count}次')"
   ]
  },
  {
   "cell_type": "markdown",
   "metadata": {},
   "source": [
    "可以看到, 相较于二分查找的23次来说又是一次巨大的进步, 只用了5次就得到了结果."
   ]
  },
  {
   "cell_type": "markdown",
   "metadata": {},
   "source": [
    "# 函数与作用域"
   ]
  },
  {
   "cell_type": "code",
   "execution_count": null,
   "metadata": {
    "jupyter": {
     "outputs_hidden": false
    }
   },
   "outputs": [],
   "source": [
    "# 利用二分查找求平方根\n",
    "x = 81\n",
    "epsilon = 0.00001\n",
    "low = min(0, x)\n",
    "high = max(0, x)\n",
    "guess = (low + high) / 2\n",
    "guess_count = 0\n",
    "while abs(guess ** 2 - x) >= epsilon:\n",
    "    if guess ** 2 > x:\n",
    "        high = guess\n",
    "    else:\n",
    "        low = guess\n",
    "    guess = (low + high) / 2\n",
    "    guess_count += 1\n",
    "print(f'找到了{x}的平方根{guess}, 一共猜测了{guess_count}次')"
   ]
  },
  {
   "cell_type": "markdown",
   "metadata": {},
   "source": [
    "让我们看到前面的二分查找代码, 虽然逻辑清晰, 但是缺乏泛用性. 因为他只对 x 和 epsilon 对应的值生效. 例如, 我们想求一个数的立方根, 他就失效了. 如果我们既想计算平方根, 同时也想计算立方根呢? 我们又得重新写一次代码, 这样是很不方便的. 因此我们引入了函数这一概念.\n",
    "其实我们已经见到了很多内置函数了, 比如 `print` , `input` , `len` , `abs` 这些都是python内置的函数. 现在让我们来看看函数的一般形式:\n",
    "```\n",
    "def 函数名(一个或者多个参数, 也可以没有):\n",
    "    函数本体\n",
    "```\n",
    "现在让我们来创建一个属于自己的简单函数:"
   ]
  },
  {
   "cell_type": "code",
   "execution_count": 24,
   "metadata": {
    "jupyter": {
     "outputs_hidden": false
    }
   },
   "outputs": [],
   "source": [
    "def max_value(a, b):\n",
    "    \"\"\"\n",
    "    通过传入两个参数a, b返回二者较大的一个.如果一样则返回相等.\n",
    "    :param a: 需要比较的第一个参数\n",
    "    :param b: 需要比较的第二个参数\n",
    "    :return: 返回其中较大的一个\n",
    "    \"\"\"\n",
    "    if a > b:\n",
    "        return a\n",
    "    elif a < b:\n",
    "        return b\n",
    "    else:\n",
    "        return '二者相等'"
   ]
  },
  {
   "cell_type": "code",
   "execution_count": 26,
   "metadata": {
    "jupyter": {
     "outputs_hidden": false
    }
   },
   "outputs": [
    {
     "name": "stdout",
     "output_type": "stream",
     "text": [
      "5\n",
      "二者相等\n"
     ]
    }
   ],
   "source": [
    "print(max_value(3, 5))\n",
    "print(max_value(4, 4))"
   ]
  },
  {
   "cell_type": "markdown",
   "metadata": {},
   "source": [
    "可以看到这是一个比较大小的函数, 他可以接收两个参数 `a` 和 `b`. 然后返回其中较大的一个.\n",
    "我们将 `def max_value(a, b)` 中的 `a` 和 `b` 称为形式上的参数, 也叫做形参.\n",
    "而当 `max_value(3, 4)` 执行的时候, 我们的参数变成了 `3` 和 `4` . 此时我们把他们称作实际参数, 也叫做实参.\n",
    "二者也许有点绕, 但是只要记住一点, 当参数被其他对象绑定了之后, 就变成了实参.\n",
    "函数体可以是任何一段Python代码. 我们实际函数输出的对象就是函数体中 `return` 的对象."
   ]
  },
  {
   "cell_type": "markdown",
   "metadata": {},
   "source": [
    "是时候练一下手了: 编写一个函数is_in，接受两个字符串作为参数，如果一个字符串是另一个字符串的一部分，返回True，否则返回False。提示：你可以使用内置的str类型的操作符in"
   ]
  },
  {
   "cell_type": "markdown",
   "metadata": {},
   "source": [
    "# 关键字参数和默认值"
   ]
  },
  {
   "cell_type": "markdown",
   "metadata": {},
   "source": [
    "在python中除了直接输入函数的参数以外, 我们还可以用关键字输入参数. 我们来看下一个例子:"
   ]
  },
  {
   "cell_type": "code",
   "execution_count": 38,
   "metadata": {
    "jupyter": {
     "outputs_hidden": false
    }
   },
   "outputs": [],
   "source": [
    "def greeting(firstname, lastname, reverse=False):\n",
    "    \"\"\"\n",
    "    根据一个人的名字来问候\n",
    "    :param firstname: 姓氏\n",
    "    :param lastname: 名字\n",
    "    :param reverse: 是否交换名字顺序\n",
    "    :return: 问候语\n",
    "    \"\"\"\n",
    "    if reverse:\n",
    "        return f'你好, {lastname} {firstname}'\n",
    "    else:\n",
    "        return f'你好, {firstname} {lastname}'"
   ]
  },
  {
   "cell_type": "code",
   "execution_count": 47,
   "metadata": {
    "jupyter": {
     "outputs_hidden": false
    }
   },
   "outputs": [
    {
     "name": "stdout",
     "output_type": "stream",
     "text": [
      "1 你好, 关 云长\n",
      "2 你好, 云长 关\n",
      "3 你好, 关 云长\n",
      "4 你好, 关 云长\n",
      "5 你好, 云长 关\n",
      "6 你好, 云长 关\n"
     ]
    }
   ],
   "source": [
    "print('1 ' + greeting('关', '云长'))\n",
    "print('2 ' + greeting('云长', '关'))\n",
    "print('3 ' + greeting(lastname='云长', firstname='关'))\n",
    "print('4 ' + greeting(lastname='云长', firstname='关', reverse=False))\n",
    "print('5 ' + greeting('关', '云长', reverse=True))\n",
    "print('6 ' + greeting(lastname='云长', firstname='关', reverse=True))"
   ]
  },
  {
   "cell_type": "markdown",
   "metadata": {},
   "source": [
    "从1, 2我们可以直到, 当我们改变了参数的位置我们得到的结果也跟着改变了.\n",
    "从1, 3可以得出结论, 当我们在调用函数的时候, 先输入 `lastname='云长' `, 然后再输入 `firstname='关'` , 我们得到的结果和第一个却是一样的.\n",
    "从1, 4可以知道, 因为我们默认参数 `reverse` 在函数定义的时候是 `False` , 所以我们的结果默认没有交换姓氏和名字的顺序.\n",
    "我们把在函数定义过程中已经赋予的值叫做 `默认值` . 把这种以关键字加一个等号的形式叫做关键字参数. 不难发现,  关键字参数的顺序并不影响函数实际接收到的值."
   ]
  },
  {
   "cell_type": "markdown",
   "metadata": {},
   "source": [
    "# 作用域"
   ]
  },
  {
   "cell_type": "markdown",
   "metadata": {},
   "source": [
    "我们先来看一个例子:"
   ]
  },
  {
   "cell_type": "code",
   "execution_count": 51,
   "metadata": {
    "jupyter": {
     "outputs_hidden": false
    }
   },
   "outputs": [
    {
     "name": "stdout",
     "output_type": "stream",
     "text": [
      "我是函数内定义的 x =  6\n",
      "x =  5\n",
      "y =  2\n",
      "z =  6\n"
     ]
    }
   ],
   "source": [
    "def f(x):\n",
    "    y = 1\n",
    "    x += y\n",
    "    print('我是函数内定义的 x = ', x)\n",
    "    return x\n",
    "\n",
    "\n",
    "x = 5\n",
    "y = 2\n",
    "z = f(x)\n",
    "print('x = ', x)\n",
    "print('y = ', y)\n",
    "print('z = ', z)"
   ]
  },
  {
   "cell_type": "markdown",
   "metadata": {},
   "source": [
    "可以发现同样是 `x` , 但是在我们调用 `z = f(x)` 的时候, 其实我们执行的是 `z = f(5)` . 然后转入 `f(5)` ,我们得到 `x += 1` . 因此 `f(5)` 会打印出第一行, 然后把 `6` 传递给 `z` . 在 `z` 执行完以后, 我们就可以销毁 `f(5)` 中的所有定义, 然后直接回到外面, 此时外面的 `x` 还是 `5`, 所以第二行 `print` 得到的 `x` 是 `5` .\n",
    "我们只需要记住一点, 外面的东西可能被带入内部中, 而内部的东西只有 `return` 语句得到的对象会带出外面. 其余内部的东西在 `return` 执行完以后已经没有任何意义.\n",
    "我们应该怎么定义外层和内层呢? 答案是看缩进. 不难发现, 外层的缩进次数普遍比内层少甚至不用缩进. 而函数的内外层则需要将其带入函数调用的地方决定, 虽然读起来有点绕口, 但是你在用的时候一下子就能明白其中含义."
   ]
  },
  {
   "cell_type": "markdown",
   "metadata": {},
   "source": [
    "# 规范"
   ]
  },
  {
   "cell_type": "markdown",
   "metadata": {},
   "source": [
    "我们先拓展一下前面的求平方根的二分查找算法,然后再写一个测试函数用来测试我们的函数能否预期工作."
   ]
  },
  {
   "cell_type": "code",
   "execution_count": 64,
   "metadata": {
    "jupyter": {
     "outputs_hidden": false
    }
   },
   "outputs": [],
   "source": [
    "def find_root(x, power, epsilon):\n",
    "    \"\"\"\n",
    "    寻找x的power次方根,\n",
    "    :param x: 输入正数x\n",
    "    :param power: 需要寻找的power次方根,比如完全平方根,power = 2\n",
    "    :param epsilon: 寻找的精度\n",
    "    :return: x的power次方根\n",
    "    \"\"\"\n",
    "    if x < 0 or power < 1 or epsilon < 0:\n",
    "        # 限制参数的取值范围\n",
    "        return None\n",
    "    low = min(-1, x)\n",
    "    high = max(1, x)\n",
    "    ans = (low + high) / 2\n",
    "    while abs(ans ** power - x) >= epsilon:\n",
    "        if ans ** power > x:\n",
    "            high = ans\n",
    "        else:\n",
    "            low = ans\n",
    "        ans = (low + high) / 2\n",
    "    return ans"
   ]
  },
  {
   "cell_type": "code",
   "execution_count": 65,
   "metadata": {
    "jupyter": {
     "outputs_hidden": false
    }
   },
   "outputs": [],
   "source": [
    "def test_find_root():\n",
    "    epsilon = 0.00001\n",
    "    for x in [-8, -1, -0.25, 0.25, 1, 8]:\n",
    "        for power in range(1, 4):\n",
    "            print(f'测试x = {x}, 次方power = {power}')\n",
    "            result = find_root(x, power, epsilon)\n",
    "            if result is None:\n",
    "                print('负数没有根')\n",
    "            else:\n",
    "                print(f'得到近似根为{result}\\n{result}**{power} == {result ** power:.7f}近似于{x}')"
   ]
  },
  {
   "cell_type": "code",
   "execution_count": 66,
   "metadata": {
    "jupyter": {
     "outputs_hidden": false
    }
   },
   "outputs": [
    {
     "name": "stdout",
     "output_type": "stream",
     "text": [
      "测试x = -8, 次方power = 1\n",
      "负数没有根\n",
      "测试x = -8, 次方power = 2\n",
      "负数没有根\n",
      "测试x = -8, 次方power = 3\n",
      "负数没有根\n",
      "测试x = -1, 次方power = 1\n",
      "负数没有根\n",
      "测试x = -1, 次方power = 2\n",
      "负数没有根\n",
      "测试x = -1, 次方power = 3\n",
      "负数没有根\n",
      "测试x = -0.25, 次方power = 1\n",
      "负数没有根\n",
      "测试x = -0.25, 次方power = 2\n",
      "负数没有根\n",
      "测试x = -0.25, 次方power = 3\n",
      "负数没有根\n",
      "测试x = 0.25, 次方power = 1\n",
      "得到近似根为0.25\n",
      "0.25**1 == 0.2500000近似于0.25\n",
      "测试x = 0.25, 次方power = 2\n",
      "得到近似根为0.5\n",
      "0.5**2 == 0.2500000近似于0.25\n",
      "测试x = 0.25, 次方power = 3\n",
      "得到近似根为0.6299591064453125\n",
      "0.6299591064453125**3 == 0.2499983近似于0.25\n",
      "测试x = 1, 次方power = 1\n",
      "得到近似根为0.9999923706054688\n",
      "0.9999923706054688**1 == 0.9999924近似于1\n",
      "测试x = 1, 次方power = 2\n",
      "得到近似根为0.9999961853027344\n",
      "0.9999961853027344**2 == 0.9999924近似于1\n",
      "测试x = 1, 次方power = 3\n",
      "得到近似根为0.9999980926513672\n",
      "0.9999980926513672**3 == 0.9999943近似于1\n",
      "测试x = 8, 次方power = 1\n",
      "得到近似根为7.999991416931152\n",
      "7.999991416931152**1 == 7.9999914近似于8\n",
      "测试x = 8, 次方power = 2\n",
      "得到近似根为2.8284263610839844\n",
      "2.8284263610839844**2 == 7.9999957近似于8\n",
      "测试x = 8, 次方power = 3\n",
      "得到近似根为1.9999992847442627\n",
      "1.9999992847442627**3 == 7.9999914近似于8\n"
     ]
    }
   ],
   "source": [
    "test_find_root()"
   ]
  },
  {
   "cell_type": "markdown",
   "metadata": {},
   "source": [
    "对于新手来说, 编写这样的测试函数像是在白费力气. 但是短短几行代码就能让我们知道我们书写的代码是否按照预想的方向运行."
   ]
  },
  {
   "cell_type": "markdown",
   "metadata": {},
   "source": [
    "# 递归(递龟)"
   ]
  },
  {
   "cell_type": "markdown",
   "metadata": {},
   "source": [
    "也许你认为递归是一个非常高深莫测的编程技术, 其实递归只是一种简单的编程思想. 一般来说递归的定义包含两部分.\n",
    "第一, 至少一种基本情形可以值得得到结果.\n",
    "第二, 至少一种递归情形定义了如何处理其他结果.\n",
    "最简单的递归思想应该是 `阶乘` . 我们知道 `5! = 5 * 4 * 3 * 2 * 1` ,让我们用函数来实现这个功能:"
   ]
  },
  {
   "cell_type": "code",
   "execution_count": 67,
   "metadata": {
    "jupyter": {
     "outputs_hidden": false
    }
   },
   "outputs": [],
   "source": [
    "# 递归实现阶乘\n",
    "def factorial_recursion(x):\n",
    "    if x == 0:\n",
    "        return 1\n",
    "    else:\n",
    "        return x * factorial_recursion(x - 1)"
   ]
  },
  {
   "cell_type": "code",
   "execution_count": 68,
   "metadata": {
    "jupyter": {
     "outputs_hidden": false
    }
   },
   "outputs": [
    {
     "name": "stdout",
     "output_type": "stream",
     "text": [
      "120\n"
     ]
    }
   ],
   "source": [
    "print(factorial_recursion(5))"
   ]
  },
  {
   "cell_type": "markdown",
   "metadata": {},
   "source": [
    "这是一个最简单的递归函数. 首先我们能得到一种基本情形: 当 `x == 0` ,结果是 `1` .\n",
    "其次, 对于非 `0` 的时候, 我们得到的结果是 `x * factorial(x-1)` .当运行到这里, python会自动寻找后面的步骤, 直到得到我们的基本情形. 再得到最终结果, 是不是很简单, 如果用迭代法实现这一功能该怎么写呢?"
   ]
  },
  {
   "cell_type": "code",
   "execution_count": 1,
   "metadata": {
    "jupyter": {
     "outputs_hidden": false
    }
   },
   "outputs": [],
   "source": [
    "# 迭代实现阶乘\n",
    "def factorial_iterator(x):\n",
    "    result = 1\n",
    "    while x > 1:\n",
    "        result = result * x\n",
    "        x -= 1\n",
    "    return result"
   ]
  },
  {
   "cell_type": "code",
   "execution_count": 2,
   "metadata": {
    "jupyter": {
     "outputs_hidden": false
    }
   },
   "outputs": [
    {
     "name": "stdout",
     "output_type": "stream",
     "text": [
      "120\n"
     ]
    }
   ],
   "source": [
    "print(factorial_iterator(5))"
   ]
  },
  {
   "cell_type": "markdown",
   "metadata": {},
   "source": []
  },
  {
   "cell_type": "markdown",
   "metadata": {},
   "source": [
    "接下来我们用递归来看很经典的斐波那契数列(应该不用我介绍了,就是从第三项开始,每一项都是前两项之和):\n",
    "1, 1, 2, 3, 5, 8, 13, 21..."
   ]
  },
  {
   "cell_type": "code",
   "execution_count": 9,
   "metadata": {
    "jupyter": {
     "outputs_hidden": false
    }
   },
   "outputs": [],
   "source": [
    "def fib(n):\n",
    "    if n == 0 or n == 1:\n",
    "        return 1\n",
    "    else:\n",
    "        return fib(n - 1) + fib(n - 2)"
   ]
  },
  {
   "cell_type": "markdown",
   "metadata": {},
   "source": [
    "从fib的定义出发, 用递归很容易就实现了."
   ]
  },
  {
   "cell_type": "markdown",
   "metadata": {},
   "source": [
    "# 回文"
   ]
  },
  {
   "cell_type": "markdown",
   "metadata": {},
   "source": [
    "我们经常听到回文, 就是从前往后和从后往前都是相同的字符串或者数. 让我们看看用递归怎么实现:"
   ]
  },
  {
   "cell_type": "code",
   "execution_count": 16,
   "metadata": {
    "jupyter": {
     "outputs_hidden": false
    }
   },
   "outputs": [],
   "source": [
    "def is_palindrome(s: str):\n",
    "    \"\"\"\n",
    "    假设s是字符串,如果是回文字符串则返回True,否则返回False\n",
    "    :param s: 字符串\n",
    "    :return: True or False\n",
    "    \"\"\"\n",
    "    if not s.isalpha():  # 这里isalpha就是判断是否由字符串组成\n",
    "        return '不是字符串'\n",
    "\n",
    "    def is_pal(s):\n",
    "        if len(s) <= 1:  # 如果s只有一个元素,则必定是回文字符串\n",
    "            return True\n",
    "        else:\n",
    "            return s[0] == s[-1] and is_pal(s[1:-1])\n",
    "        # 如果第一个元素和最后一个元素相等,则前面返回True , 然后判断 第二个和倒数第二个, 以此类推.\n",
    "\n",
    "    return is_pal(s)"
   ]
  },
  {
   "cell_type": "code",
   "execution_count": 17,
   "metadata": {
    "jupyter": {
     "outputs_hidden": false
    }
   },
   "outputs": [
    {
     "name": "stdout",
     "output_type": "stream",
     "text": [
      "True\n",
      "不是字符串\n"
     ]
    }
   ],
   "source": [
    "print(is_palindrome('aaaaaaaaaa'))\n",
    "print(is_palindrome('123'))"
   ]
  },
  {
   "cell_type": "markdown",
   "metadata": {},
   "source": [
    "# 模块"
   ]
  },
  {
   "cell_type": "markdown",
   "metadata": {},
   "source": [
    "到目前为止, 我们所有的学习都是在同一个py文件中. 但是当程序较大时, 对我们来说只有一个py文件会非常不方便. 因此我们选择将大型python项目分解成很多个模块. 最简单的模块分组方式就是多个py文件共同工作.\n",
    "假设我的目录下面有一个叫做 module_test.py文件的模块,他的内容如下:\n",
    "```python\n",
    "def add_two_num(a,b):\n",
    "    return a + b\n",
    "```\n",
    "现在让我们来调用它, 只需要用 `模块名.函数名` 即可调用, 非常简单."
   ]
  },
  {
   "cell_type": "code",
   "execution_count": 18,
   "metadata": {
    "jupyter": {
     "outputs_hidden": false
    }
   },
   "outputs": [
    {
     "name": "stdout",
     "output_type": "stream",
     "text": [
      "8\n"
     ]
    }
   ],
   "source": [
    "import module_test\n",
    "print(module_test.add_two_num(3,5))"
   ]
  },
  {
   "cell_type": "markdown",
   "metadata": {},
   "source": [
    "我们这里并没有add_two_mum的相关定义, 但是由于我们在`module_test`中已经写好了并且通过 `import` 语句进行了引用, 所以能够直接拿来使用. 是不是和引入第三方库完全一样呢? 答案是是的. 如果我们只想引用部分库可以这么做:"
   ]
  },
  {
   "cell_type": "code",
   "execution_count": 19,
   "metadata": {
    "jupyter": {
     "outputs_hidden": false
    }
   },
   "outputs": [
    {
     "name": "stdout",
     "output_type": "stream",
     "text": [
      "4\n"
     ]
    }
   ],
   "source": [
    "from module_test import add_two_num\n",
    "print(add_two_num(3,1))"
   ]
  },
  {
   "cell_type": "markdown",
   "metadata": {},
   "source": [
    "通过 `from xxx文件 import 文件内拥有的函数,类` 之后, 我们可以直接使用. 这样的优点是书写代码简单, 缺点是如果名字和其他库有重复的可能出现定义问题."
   ]
  },
  {
   "cell_type": "markdown",
   "metadata": {},
   "source": [
    "# 文件"
   ]
  },
  {
   "cell_type": "markdown",
   "metadata": {},
   "source": [
    "所有的计算机系统都是用文件来保存结果, 并且能够分享文件. python同样提供了对文件的操作. 在文件I/O中，要从一个文件读取数据，应用程序首先要调用操作系统函数并传送文件名，并选一个到该文件的路径来打开文件. 该函数取回一个顺序号，叫做文件句柄.\n",
    "通俗一点就是我们通过这个操作能把文件绑定到一个变量上面.  先来看个例子"
   ]
  },
  {
   "cell_type": "code",
   "execution_count": 31,
   "metadata": {
    "jupyter": {
     "outputs_hidden": false
    }
   },
   "outputs": [],
   "source": [
    "# 写入\n",
    "file1 = open('file.txt','w')\n",
    "# open打开一个文件,open(文件名,打开方式), 'w'代表 write,写入\n",
    "# 如果当前目录找不到该文件则会自动创建一个\n",
    "for i in range(3):\n",
    "    name = input('input your name: ')\n",
    "    file1.write(name + '\\n')  # 将 name + '\\n' 写入file1, '\\n'相当于回车\n",
    "file1.close()  # 操作完成后关闭文件"
   ]
  },
  {
   "cell_type": "code",
   "execution_count": 34,
   "metadata": {
    "jupyter": {
     "outputs_hidden": false
    }
   },
   "outputs": [
    {
     "name": "stdout",
     "output_type": "stream",
     "text": [
      "皮卡丘\n",
      "\n",
      "小火龙\n",
      "\n",
      "杰尼龟\n",
      "\n"
     ]
    }
   ],
   "source": [
    "# 读取\n",
    "file = open('file.txt','r')\n",
    "for line in file:\n",
    "    print(line)\n",
    "file.close()"
   ]
  },
  {
   "cell_type": "markdown",
   "metadata": {},
   "source": [
    "输出的每一行内容之间都有个空行,这是因为我们字符串的末尾都添加了一个`\\n`,print输出内容会默认在末尾增加一个 `\\n` .所以相当于我们有了两个回车,为了避免这个问题, 我们可以改为 `print(line[:-1])` 即只输出每一行的第一个到倒数第二个对象.下面是一些常见的文件操作"
   ]
  },
  {
   "cell_type": "markdown",
   "metadata": {},
   "source": [
    "open(fn, 'w')：fn是一个表示文件名的字符串。创建一个文件用来写入数据，返回文件\n",
    "句柄。  \n",
    "open(fn, 'r')：fn是一个表示文件名的字符串。打开一个已有文件读取数据，返回文件\n",
    "句柄。  \n",
    "open(fn, 'a')：fn是一个表示文件名的字符串。打开一个已有文件用来追加数据，返回文件句柄。  \n",
    "file.read()：返回一个字符串，其中包含与文件句柄file相关的文件中的内容。  \n",
    "file.readline()：返回与文件句柄file相关的文件中的下一行。  \n",
    "file.readlines()：返回一个列表，列表中的每个元素都是与文件句柄file相关的文件中的一行。 \n",
    "file.write(s)：将字符串s写入与文件句柄file相关的文件末尾。  \n",
    "file.writeLines(S)：S是个字符串序列。将S中的每个元素作为一个单独的行写入与文件句柄\n",
    "file相关的文件。  \n",
    "file.close()：关闭与文件句柄file相关的文件。"
   ]
  },
  {
   "cell_type": "markdown",
   "metadata": {},
   "source": [
    "试试用递归创建一个斐波那契数列并将它存储到一个txt文件中, 然后再从文件中读取出来."
   ]
  },
  {
   "cell_type": "code",
   "execution_count": null,
   "outputs": [],
   "source": [
    "a = '123'\n",
    "open_count = 0\n",
    "while open_count < 3:\n",
    "    x = input('请输入密码')\n",
    "    if x == a:\n",
    "        print('密码正确')\n",
    "        break\n",
    "    else:\n",
    "        print('密码错误请重新输入')\n",
    "        open_count += 1\n",
    "        continue\n"
   ],
   "metadata": {
    "collapsed": false
   }
  }
 ],
 "metadata": {
  "kernelspec": {
   "display_name": "Python 3 (ipykernel)",
   "language": "python",
   "name": "python3"
  },
  "language_info": {
   "codemirror_mode": {
    "name": "ipython",
    "version": 3
   },
   "file_extension": ".py",
   "mimetype": "text/x-python",
   "name": "python",
   "nbconvert_exporter": "python",
   "pygments_lexer": "ipython3",
   "version": "3.10.8"
  }
 },
 "nbformat": 4,
 "nbformat_minor": 4
}
