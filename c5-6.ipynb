{
 "cells": [
  {
   "cell_type": "markdown",
   "source": [
    "# 元组"
   ],
   "metadata": {
    "collapsed": false
   }
  },
  {
   "cell_type": "markdown",
   "source": [
    "还记得前面我们学习的字符串吗? 他可以切片, 但是无法修改字符串本身的内容 . 现在我们来学习字符串的扩展, 我们称为元组.\n",
    "我们一般用小括号括起来, 并且元组之间的元素用逗号隔开."
   ],
   "metadata": {
    "collapsed": false
   }
  },
  {
   "cell_type": "code",
   "execution_count": 15,
   "outputs": [
    {
     "name": "stdout",
     "output_type": "stream",
     "text": [
      "1 类型为 <class 'int'>\n",
      "(1, 1, 1, 1, 1) 类型为 <class 'tuple'>\n",
      "False 类型为 <class 'bool'>\n",
      "(3.5, False, None, 1) 类型为 <class 'tuple'>\n",
      "(1, 'two', 3.5, False, None, (1, 'two', 3.5, False, None), 'Tom', True) 类型为 <class 'tuple'>\n"
     ]
    }
   ],
   "source": [
    "def show_type(x):\n",
    "    \"\"\"\n",
    "    用来打印变量和变量的类型\n",
    "    :param x: 任意变量\n",
    "    :return: None\n",
    "    \"\"\"\n",
    "    print(x, '类型为', type(x))\n",
    "\n",
    "\n",
    "t1 = (1)\n",
    "t2 = (1,)\n",
    "t3 = (1, 'two', 3.5, False, None)\n",
    "t4 = (t3, 'Tom', True)\n",
    "show_type(t1)\n",
    "show_type(t2 * 5)\n",
    "show_type(t3[3])\n",
    "show_type((t3[2:5] + t2))\n",
    "show_type((t3 + t4))"
   ],
   "metadata": {
    "collapsed": false
   }
  },
  {
   "cell_type": "markdown",
   "source": [
    "从上面可以知道一些元组的特性:\n",
    "首先, 如果只有单个元素的元组, 我们需要用括号的同时添加一个逗号在元素后面, 否则他会被认为成其他类型的变量.\n",
    "其次, 元组中的元素可以是任意类型, 但是我们不能改变他的顺序和内容.\n",
    "与字符串类似的, 元组也可以切片, 索引, 不过注意索引之后的元素类型是由该元素本身决定的.\n",
    "元组和元组相加之后得到的依然是元组, 并且元组可以嵌套元组 ."
   ],
   "metadata": {
    "collapsed": false
   }
  },
  {
   "cell_type": "markdown",
   "source": [
    "# 序列与多重赋值"
   ],
   "metadata": {
    "collapsed": false
   }
  },
  {
   "cell_type": "markdown",
   "source": [
    "如果我们知道了一个序列(包括但不限于元组和字符串)的长度后, 我们可以用多重赋值快速地对变量进行赋值.\n",
    "例如当我们执行 `x,y = (5,6)` 的时候, python会自动将`5`绑定到`x`而将`6`绑定到`y`上.\n",
    "现在让我们来看个小程序:"
   ],
   "metadata": {
    "collapsed": false
   }
  },
  {
   "cell_type": "code",
   "execution_count": 28,
   "outputs": [
    {
     "name": "stdout",
     "output_type": "stream",
     "text": [
      "找到了最小公约数5,最大公约数5\n"
     ]
    }
   ],
   "source": [
    "def find_extreme_divisors(x, y):\n",
    "    \"\"\"\n",
    "    找到x,y的最大公约数和最小公约数, 如果最小公约数不为 1, 则返回最大公约数和最小公约数. 否则返回 None,None\n",
    "    :param x: 第一个数\n",
    "    :param y: 第二个数\n",
    "    :return: 二者的最大公约数\n",
    "    \"\"\"\n",
    "    min_val, max_val = 1, 1\n",
    "    for i in range(2, min(x, y) + 1):\n",
    "        if x % i == 0 and y % i == 0:\n",
    "            if min_val == 1:\n",
    "                min_val = i\n",
    "            max_val = i\n",
    "    if min_val != 0:\n",
    "        return min_val,max_val\n",
    "    else:\n",
    "        return None,None\n",
    "\n",
    "min_val,max_val = find_extreme_divisors(43252365, 46566605)\n",
    "print(f'找到了最小公约数{min_val},最大公约数{max_val}')"
   ],
   "metadata": {
    "collapsed": false
   }
  },
  {
   "cell_type": "markdown",
   "source": [
    "# 范围"
   ],
   "metadata": {
    "collapsed": false
   }
  },
  {
   "cell_type": "markdown",
   "source": [
    "从前面的`for`循环我们学习到了`range`函数. `range`函数也是无法改变的. 他会返回一个类型为 `range` 的变量, 这个变量包含了一个序列的起始,终止,步长信息. `range` 相对于元组变量来说, 由于他只包含了三个信息, 所以占用的空间比元组会小很多."
   ],
   "metadata": {
    "collapsed": false
   }
  },
  {
   "cell_type": "markdown",
   "source": [
    "# 列表"
   ],
   "metadata": {
    "collapsed": false
   }
  },
  {
   "cell_type": "markdown",
   "source": [
    "前面我们学习了元组类型的对象, 但是元组是不可改变的, 这对于我们来说用到元组的情况就比较少. 我们更多地是用一种可以改变的序列, 这就是我们要学习的列表序列.\n",
    "我们将列表用`[]`括起来表示."
   ],
   "metadata": {
    "collapsed": false
   }
  },
  {
   "cell_type": "code",
   "execution_count": 37,
   "outputs": [
    {
     "name": "stdout",
     "output_type": "stream",
     "text": [
      "2 3.14 some True \n",
      "2 3.14 some True \n",
      "[2, 3.14, 'some', True]\n",
      "['change', 3.14, 'some', True]\n",
      "append ['change', 3.14, 'some', True, [1, 2]]\n",
      "remove ['change', 3.14, 'some', True]\n",
      "extend ['change', 3.14, 'some', True, 1, 2, 3, 4]\n"
     ]
    },
    {
     "ename": "TypeError",
     "evalue": "sort() takes no positional arguments",
     "output_type": "error",
     "traceback": [
      "\u001B[1;31m---------------------------------------------------------------------------\u001B[0m",
      "\u001B[1;31mTypeError\u001B[0m                                 Traceback (most recent call last)",
      "Cell \u001B[1;32mIn [37], line 18\u001B[0m\n\u001B[0;32m     16\u001B[0m l2\u001B[38;5;241m.\u001B[39mextend([\u001B[38;5;241m1\u001B[39m,\u001B[38;5;241m2\u001B[39m,\u001B[38;5;241m3\u001B[39m,\u001B[38;5;241m4\u001B[39m])\n\u001B[0;32m     17\u001B[0m \u001B[38;5;28mprint\u001B[39m(\u001B[38;5;124m'\u001B[39m\u001B[38;5;124mextend\u001B[39m\u001B[38;5;124m'\u001B[39m,l2)\n\u001B[1;32m---> 18\u001B[0m \u001B[38;5;28mprint\u001B[39m(\u001B[38;5;124m'\u001B[39m\u001B[38;5;124msort\u001B[39m\u001B[38;5;124m'\u001B[39m,\u001B[43ml2\u001B[49m\u001B[38;5;241;43m.\u001B[39;49m\u001B[43msort\u001B[49m\u001B[43m(\u001B[49m\u001B[43ml2\u001B[49m\u001B[43m)\u001B[49m)\n",
      "\u001B[1;31mTypeError\u001B[0m: sort() takes no positional arguments"
     ]
    }
   ],
   "source": [
    "l1 = [1]  # 单个列表元素不需要添加逗号\n",
    "l2 = [2,3.14,'some',True,]  # 列表元素也可以存储任意类型的对象\n",
    "for i in l2:  # 遍历列表元素的每一项, 和遍历字符串类似.\n",
    "    print(i,end=' ')\n",
    "print()\n",
    "for i in range(len(l2)):  # 使用索引遍历列表的每一项元素\n",
    "    print(l2[i],end=' ')\n",
    "print()\n",
    "print(l2)\n",
    "l2[0] = 'change'\n",
    "print(l2)\n",
    "l2.append([1,2])\n",
    "print('append',l2)\n",
    "l2.remove([1,2])\n",
    "print('remove',l2)\n",
    "l2.extend([1,2,3,4])\n",
    "print('extend',l2)\n",
    "print('sort',l2.sort(l2))\n"
   ],
   "metadata": {
    "collapsed": false
   }
  }
 ],
 "metadata": {
  "kernelspec": {
   "display_name": "Python 3",
   "language": "python",
   "name": "python3"
  },
  "language_info": {
   "codemirror_mode": {
    "name": "ipython",
    "version": 2
   },
   "file_extension": ".py",
   "mimetype": "text/x-python",
   "name": "python",
   "nbconvert_exporter": "python",
   "pygments_lexer": "ipython2",
   "version": "2.7.6"
  }
 },
 "nbformat": 4,
 "nbformat_minor": 0
}
